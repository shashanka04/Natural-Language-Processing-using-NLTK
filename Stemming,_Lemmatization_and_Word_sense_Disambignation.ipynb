{
  "nbformat": 4,
  "nbformat_minor": 0,
  "metadata": {
    "colab": {
      "provenance": []
    },
    "kernelspec": {
      "name": "python3",
      "display_name": "Python 3"
    },
    "language_info": {
      "name": "python"
    }
  },
  "cells": [
    {
      "cell_type": "markdown",
      "source": [
        "Perform the following tasks to get an understanding of stemming,lemmatization andWord Sense Disambiguation (WSD) using the Natural LanguageTool Kit (NLTK)\n",
        "\n",
        " 1.Declare   a   list   of   words   and   perform   stemming   on   each   word   using PorterStemmer() andLancasterStemmer()\n",
        "\n",
        " 2.Declare a sentence and perform lemmatization on each word of the sentence using  WordNetLemmetizer()\n",
        "\n",
        " 3.Declare two different sentences with homonyms and perform WSD to fetch the meanings of the homonyms in the context of their respective sentences"
      ],
      "metadata": {
        "id": "c6tuBTkd2nOW"
      }
    },
    {
      "cell_type": "code",
      "execution_count": null,
      "metadata": {
        "id": "JN6Dozf9IQUQ"
      },
      "outputs": [],
      "source": [
        "import nltk"
      ]
    },
    {
      "cell_type": "code",
      "source": [
        "s=['friend', 'friendship', 'friends', 'friendships', 'stabil', 'destabilize', 'misunderstanding', 'railroad', 'moonlight', 'football']\n",
        "print('The original words are:')\n",
        "print(s)"
      ],
      "metadata": {
        "colab": {
          "base_uri": "https://localhost:8080/"
        },
        "id": "hvZ0Zt88IarO",
        "outputId": "aa48f4dd-93f0-440a-c159-b6164ee3156f"
      },
      "execution_count": null,
      "outputs": [
        {
          "output_type": "stream",
          "name": "stdout",
          "text": [
            "The original words are:\n",
            "['friend', 'friendship', 'friends', 'friendships', 'stabil', 'destabilize', 'misunderstanding', 'railroad', 'moonlight', 'football']\n"
          ]
        }
      ]
    },
    {
      "cell_type": "code",
      "source": [],
      "metadata": {
        "id": "o1wzAoaANbOX"
      },
      "execution_count": null,
      "outputs": []
    },
    {
      "cell_type": "markdown",
      "source": [
        "1.Declare   a   list   of   words   and   perform   stemming   on   each   word   using PorterStemmer() andLancasterStemmer()"
      ],
      "metadata": {
        "id": "dP5S-1g52uBm"
      }
    },
    {
      "cell_type": "code",
      "source": [
        "from nltk.stem import PorterStemmer"
      ],
      "metadata": {
        "id": "gSQiudVBJrVr"
      },
      "execution_count": null,
      "outputs": []
    },
    {
      "cell_type": "code",
      "source": [
        "pst=PorterStemmer()"
      ],
      "metadata": {
        "id": "LVK89KbXJyFv"
      },
      "execution_count": null,
      "outputs": []
    },
    {
      "cell_type": "code",
      "source": [
        "p1=pst.stem('friend')\n",
        "p2=pst.stem('friendship')\n",
        "p3=pst.stem('friends')\n",
        "p4=pst.stem('friendships')\n",
        "p5=pst.stem('stabil')\n",
        "p6=pst.stem('destabilize')\n",
        "p7=pst.stem('misunderstanding')\n",
        "p8=pst.stem('railroad')\n",
        "p9=pst.stem('moonlight')\n",
        "p10=pst.stem('football')\n"
      ],
      "metadata": {
        "id": "Q0pdisG_J4i_"
      },
      "execution_count": null,
      "outputs": []
    },
    {
      "cell_type": "code",
      "source": [
        "porter=[p1,p2,p3,p4,p5,p6,p7,p8,p9,p10]"
      ],
      "metadata": {
        "id": "jYkD67J0MSAt"
      },
      "execution_count": null,
      "outputs": []
    },
    {
      "cell_type": "code",
      "source": [
        "from nltk.stem import LancasterStemmer"
      ],
      "metadata": {
        "id": "2NxeVZfxK_Rv"
      },
      "execution_count": null,
      "outputs": []
    },
    {
      "cell_type": "code",
      "source": [
        "lan=LancasterStemmer()"
      ],
      "metadata": {
        "id": "Ik1GixemLOaa"
      },
      "execution_count": null,
      "outputs": []
    },
    {
      "cell_type": "code",
      "source": [
        "l1=lan.stem('friend')\n",
        "l2=lan.stem('friendship')\n",
        "l3=lan.stem('friends')\n",
        "l4=lan.stem('friendships')\n",
        "l5=lan.stem('stabil')\n",
        "l6=lan.stem('destabilize')\n",
        "l7=lan.stem('misunderstanding')\n",
        "l8=lan.stem('railroad')\n",
        "l9=lan.stem('moonlight')\n",
        "l10=lan.stem('football')"
      ],
      "metadata": {
        "id": "QwRmZK6QLVQ_"
      },
      "execution_count": null,
      "outputs": []
    },
    {
      "cell_type": "code",
      "source": [
        "lancaster=[l1,l2,l3,l4,l5,l6,l7,l8,l9,l10]"
      ],
      "metadata": {
        "id": "cx3cTitqNwb1"
      },
      "execution_count": null,
      "outputs": []
    },
    {
      "cell_type": "code",
      "source": [
        "import pandas as pd\n"
      ],
      "metadata": {
        "id": "2sNmmLfXL4Tc"
      },
      "execution_count": null,
      "outputs": []
    },
    {
      "cell_type": "code",
      "source": [
        "\n",
        "por1=pd.Series(porter,name=\"PORTER\")\n",
        "por1.rename('PORETER')\n",
        "por1"
      ],
      "metadata": {
        "colab": {
          "base_uri": "https://localhost:8080/"
        },
        "id": "6xDP24F0L_-r",
        "outputId": "d5260429-af3a-4993-ede6-dc94e18a0715"
      },
      "execution_count": null,
      "outputs": [
        {
          "output_type": "execute_result",
          "data": {
            "text/plain": [
              "0           friend\n",
              "1       friendship\n",
              "2           friend\n",
              "3       friendship\n",
              "4           stabil\n",
              "5         destabil\n",
              "6    misunderstand\n",
              "7         railroad\n",
              "8        moonlight\n",
              "9          footbal\n",
              "Name: PORTER, dtype: object"
            ]
          },
          "metadata": {},
          "execution_count": 46
        }
      ]
    },
    {
      "cell_type": "code",
      "source": [
        "s1=pd.Series(s,name=\"word\")\n",
        "s1"
      ],
      "metadata": {
        "colab": {
          "base_uri": "https://localhost:8080/"
        },
        "id": "aTlho3ewNn-Y",
        "outputId": "e34e1b97-9303-4a4f-cbdf-eab85a1d53b2"
      },
      "execution_count": null,
      "outputs": [
        {
          "output_type": "execute_result",
          "data": {
            "text/plain": [
              "0              friend\n",
              "1          friendship\n",
              "2             friends\n",
              "3         friendships\n",
              "4              stabil\n",
              "5         destabilize\n",
              "6    misunderstanding\n",
              "7            railroad\n",
              "8           moonlight\n",
              "9            football\n",
              "Name: word, dtype: object"
            ]
          },
          "metadata": {},
          "execution_count": 47
        }
      ]
    },
    {
      "cell_type": "code",
      "source": [
        "lan1=pd.Series(lancaster,name='lancaster')\n",
        "lan1"
      ],
      "metadata": {
        "colab": {
          "base_uri": "https://localhost:8080/"
        },
        "id": "ik6JOirVNu2Q",
        "outputId": "6571bc97-4724-4272-8b17-ef2f68dab388"
      },
      "execution_count": null,
      "outputs": [
        {
          "output_type": "execute_result",
          "data": {
            "text/plain": [
              "0           friend\n",
              "1           friend\n",
              "2           friend\n",
              "3           friend\n",
              "4            stabl\n",
              "5             dest\n",
              "6    misunderstand\n",
              "7         railroad\n",
              "8        moonlight\n",
              "9          footbal\n",
              "Name: lancaster, dtype: object"
            ]
          },
          "metadata": {},
          "execution_count": 48
        }
      ]
    },
    {
      "cell_type": "code",
      "source": [
        "stemming=pd.concat([s1,por1,lan1],axis=1)\n",
        "print(\"After stemming the words using porter stemmer and lancaster\")\n",
        "print(stemming.reset_index(drop=True))"
      ],
      "metadata": {
        "colab": {
          "base_uri": "https://localhost:8080/"
        },
        "id": "9uNEK9paOxHX",
        "outputId": "d836e784-8c5b-4819-e0bc-11379d32910e"
      },
      "execution_count": null,
      "outputs": [
        {
          "output_type": "stream",
          "name": "stdout",
          "text": [
            "After stemming the words using porter stemmer and lancaster\n",
            "               word         PORTER      lancaster\n",
            "0            friend         friend         friend\n",
            "1        friendship     friendship         friend\n",
            "2           friends         friend         friend\n",
            "3       friendships     friendship         friend\n",
            "4            stabil         stabil          stabl\n",
            "5       destabilize       destabil           dest\n",
            "6  misunderstanding  misunderstand  misunderstand\n",
            "7          railroad       railroad       railroad\n",
            "8         moonlight      moonlight      moonlight\n",
            "9          football        footbal        footbal\n"
          ]
        }
      ]
    },
    {
      "cell_type": "markdown",
      "source": [
        "2.Declare a sentence and perform lemmatization on each word of the sentence using  WordNetLemmetizer()"
      ],
      "metadata": {
        "id": "IkwpsrHBQTqr"
      }
    },
    {
      "cell_type": "code",
      "source": [
        "print(\"The original sentence is:\")\n",
        "sen2=\"He was running and eating at same time. He has bad habit of swimming after playing long hours in the Sun.\"\n",
        "sen2"
      ],
      "metadata": {
        "colab": {
          "base_uri": "https://localhost:8080/",
          "height": 54
        },
        "id": "HvP0VADTQBWe",
        "outputId": "a30012c7-2517-40d5-ed5e-0f955715e3ee"
      },
      "execution_count": null,
      "outputs": [
        {
          "output_type": "stream",
          "name": "stdout",
          "text": [
            "The original sentence is:\n"
          ]
        },
        {
          "output_type": "execute_result",
          "data": {
            "text/plain": [
              "'He was running and eating at same time. He has bad habit of swimming after playing long hours in the Sun.'"
            ],
            "application/vnd.google.colaboratory.intrinsic+json": {
              "type": "string"
            }
          },
          "metadata": {},
          "execution_count": 50
        }
      ]
    },
    {
      "cell_type": "code",
      "source": [
        "nltk.download(\"wordnet\")"
      ],
      "metadata": {
        "colab": {
          "base_uri": "https://localhost:8080/"
        },
        "id": "pyb6FE7zQsbt",
        "outputId": "d7f0d7c7-f80a-4262-f30d-f628b95631f6"
      },
      "execution_count": null,
      "outputs": [
        {
          "output_type": "stream",
          "name": "stderr",
          "text": [
            "[nltk_data] Downloading package wordnet to /root/nltk_data...\n",
            "[nltk_data]   Package wordnet is already up-to-date!\n"
          ]
        },
        {
          "output_type": "execute_result",
          "data": {
            "text/plain": [
              "True"
            ]
          },
          "metadata": {},
          "execution_count": 51
        }
      ]
    },
    {
      "cell_type": "code",
      "source": [
        "from nltk.stem import WordNetLemmatizer"
      ],
      "metadata": {
        "id": "8w7NrRJpQdLr"
      },
      "execution_count": null,
      "outputs": []
    },
    {
      "cell_type": "code",
      "source": [
        "wn=WordNetLemmatizer()"
      ],
      "metadata": {
        "id": "dp-JieVEQjv3"
      },
      "execution_count": null,
      "outputs": []
    },
    {
      "cell_type": "code",
      "source": [
        "le1=wn.lemmatize('He')\n",
        "le2=wn.lemmatize('was')\n",
        "le3=wn.lemmatize('running')\n",
        "le4=wn.lemmatize('and')\n",
        "le6=wn.lemmatize('eating')\n",
        "le7=wn.lemmatize('at')\n",
        "le9=wn.lemmatize('same')\n",
        "le10=wn.lemmatize('time')\n",
        "le12=wn.lemmatize('he')\n",
        "le13=wn.lemmatize('has')\n",
        "le14=wn.lemmatize('bad')\n",
        "le15=wn.lemmatize('habit')\n",
        "le16=wn.lemmatize('of')\n",
        "le17=wn.lemmatize('swimming')\n",
        "le18=wn.lemmatize('after')\n",
        "le19=wn.lemmatize('playing')\n",
        "le20=wn.lemmatize('long')\n",
        "le21=wn.lemmatize('hours')\n",
        "le22=wn.lemmatize('in')\n",
        "le23=wn.lemmatize('the')\n",
        "le24=wn.lemmatize('Sun')\n",
        "print(\"AFTER LEMMATIZER :\")\n",
        "print(le1)\n",
        "print(le2)\n",
        "print(le3)\n",
        "print(le4)\n",
        "print(le6)\n",
        "print(le7)\n",
        "print(le9)\n",
        "print(le10)\n",
        "print(le12)\n",
        "print(le13)\n",
        "print(le14)\n",
        "print(le15)\n",
        "print(le16)\n",
        "print(le17)\n",
        "print(le18)\n",
        "print(le19)\n",
        "print(le20)\n",
        "print(le21)\n",
        "print(le22)\n",
        "print(le23)\n",
        "print(le24)\n"
      ],
      "metadata": {
        "colab": {
          "base_uri": "https://localhost:8080/"
        },
        "id": "qa111n41Qo0H",
        "outputId": "ae70c7dd-248d-4592-8115-728bc8dc2b12"
      },
      "execution_count": null,
      "outputs": [
        {
          "output_type": "stream",
          "name": "stdout",
          "text": [
            "AFTER LEMMATIZER :\n",
            "He\n",
            "wa\n",
            "running\n",
            "and\n",
            "eating\n",
            "at\n",
            "same\n",
            "time\n",
            "he\n",
            "ha\n",
            "bad\n",
            "habit\n",
            "of\n",
            "swimming\n",
            "after\n",
            "playing\n",
            "long\n",
            "hour\n",
            "in\n",
            "the\n",
            "Sun\n"
          ]
        }
      ]
    },
    {
      "cell_type": "markdown",
      "source": [
        "3.Declare two different sentences with homonyms and perform WSD to fetch the meanings of the homonyms in the context of their respective sentences"
      ],
      "metadata": {
        "id": "zRFmu8KL25du"
      }
    },
    {
      "cell_type": "code",
      "source": [
        "nltk.download('punkt')"
      ],
      "metadata": {
        "colab": {
          "base_uri": "https://localhost:8080/"
        },
        "id": "Hcr7440TVt6u",
        "outputId": "bb8ae171-34c4-43a3-bf47-78dabe18cce7"
      },
      "execution_count": null,
      "outputs": [
        {
          "output_type": "stream",
          "name": "stderr",
          "text": [
            "[nltk_data] Downloading package punkt to /root/nltk_data...\n",
            "[nltk_data]   Package punkt is already up-to-date!\n"
          ]
        },
        {
          "output_type": "execute_result",
          "data": {
            "text/plain": [
              "True"
            ]
          },
          "metadata": {},
          "execution_count": 55
        }
      ]
    },
    {
      "cell_type": "code",
      "source": [
        "from nltk.wsd import lesk"
      ],
      "metadata": {
        "id": "-nk7ASLmUxwx"
      },
      "execution_count": null,
      "outputs": []
    },
    {
      "cell_type": "code",
      "source": [
        "tokens1 = nltk.word_tokenize(\"This device is used to jam the signal\")\n",
        "tokens2=nltk.word_tokenize('I am stuck in a traffic jam ')"
      ],
      "metadata": {
        "id": "z21_FiFgU8Wg"
      },
      "execution_count": null,
      "outputs": []
    },
    {
      "cell_type": "code",
      "source": [
        "sense1 = lesk(tokens1,'throng')\n",
        "sense2 = lesk(tokens2,'jam')"
      ],
      "metadata": {
        "id": "LiLVXBHzWTip"
      },
      "execution_count": null,
      "outputs": []
    },
    {
      "cell_type": "code",
      "source": [
        "print(\" sentence-1 \")\n",
        "print(\"This device is used to jam the signal.\")\n",
        "\n",
        "print(\"Meaning of jam in  sentence-1:\\n\",sense1,sense1.definition())\n",
        "print(\" sentence-2 \")\n",
        "print(\"I am stuck in a traffic jam.\")\n",
        "\n",
        "print('Meaning of jam in sentence-2:\\n',sense2,sense2.definition())"
      ],
      "metadata": {
        "colab": {
          "base_uri": "https://localhost:8080/"
        },
        "id": "o-2lyCHwWVkd",
        "outputId": "cdb2506e-a92c-4adf-e32e-3c1a20ab1555"
      },
      "execution_count": null,
      "outputs": [
        {
          "output_type": "stream",
          "name": "stdout",
          "text": [
            " sentence-1 \n",
            "This device is used to jam the signal.\n",
            "Meaning of jam in  sentence-1:\n",
            " Synset('throng.v.01') press tightly together or cram\n",
            " sentence-2 \n",
            "I am stuck in a traffic jam.\n",
            "Meaning of jam in sentence-2:\n",
            " Synset('jam.v.05') get stuck and immobilized\n"
          ]
        }
      ]
    }
  ]
}